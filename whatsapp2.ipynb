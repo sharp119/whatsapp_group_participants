{
 "cells": [
  {
   "cell_type": "code",
   "execution_count": null,
   "metadata": {},
   "outputs": [],
   "source": [
    "from selenium import webdriver as webdriver\n",
    "# from selenium.webdriver.chrome.options import Options\n",
    "from selenium.webdriver.common.by import By\n",
    "from time import sleep"
   ]
  },
  {
   "cell_type": "code",
   "execution_count": null,
   "metadata": {},
   "outputs": [],
   "source": [
    "import re\n",
    "from selenium.webdriver.common.keys import Keys\n"
   ]
  },
  {
   "cell_type": "code",
   "execution_count": null,
   "metadata": {},
   "outputs": [],
   "source": [
    "search_title = \"Search or start new chat\"\n",
    "list_item_role = \"listitem\"\n",
    "name_list_xpath = \"/html/body/div[1]/div/div/div[5]/div/header/div[2]/div[2]\"\n",
    "group_arr = [\"group1\", \"group2\", \"group3\"]\n",
    "pattern = r'\\+91\\s(\\d{5})\\s(\\d{5})'"
   ]
  },
  {
   "cell_type": "code",
   "execution_count": null,
   "metadata": {},
   "outputs": [],
   "source": [
    "driver = webdriver.Chrome()"
   ]
  },
  {
   "cell_type": "code",
   "execution_count": null,
   "metadata": {},
   "outputs": [],
   "source": [
    "driver.get(\"https://web.whatsapp.com\")"
   ]
  },
  {
   "cell_type": "code",
   "execution_count": null,
   "metadata": {},
   "outputs": [],
   "source": [
    "dictionary = {}\n",
    "temp_dict = {}"
   ]
  },
  {
   "cell_type": "code",
   "execution_count": null,
   "metadata": {},
   "outputs": [],
   "source": [
    "for grp in group_arr:\n",
    "    sleep(2)\n",
    "    element = driver.find_element(By.XPATH, f'//div[@title=\"Search input textbox\"]')\n",
    "    element.click()\n",
    "    sleep(1)\n",
    "    element.send_keys(grp)\n",
    "    sleep(2)\n",
    "    driver.find_element(By.XPATH, f'//span[@title=\"{grp}\"]').click()\n",
    "    sleep(4)\n",
    "    names = driver.find_element(By.XPATH, name_list_xpath).text\n",
    "    # names = re.findall(pattern, names)\n",
    "    # names = set(match[0] + match[1] for match in names)\n",
    "    names = names.split(\",\")\n",
    "    temp_dict[grp] = names\n",
    "    element = driver.find_element(By.XPATH, f'//div[@title=\"Search input textbox\"]')\n",
    "    # Use Keys to perform Ctrl + A (Select All)\n",
    "    element.send_keys(Keys.CONTROL, 'a')\n",
    "    \n",
    "    # Use Keys to perform Backspace\n",
    "    element.send_keys(Keys.BACKSPACE)"
   ]
  },
  {
   "cell_type": "code",
   "execution_count": null,
   "metadata": {},
   "outputs": [],
   "source": [
    "for ele in temp_dict:\n",
    "    print(ele, len(temp_dict[ele]), (temp_dict[ele]))"
   ]
  },
  {
   "cell_type": "code",
   "execution_count": null,
   "metadata": {},
   "outputs": [],
   "source": [
    "def remove_numbers_from_dict(input_dict, numbers_to_remove):\n",
    "    # Iterate through the dictionary items\n",
    "    for group, numbers in input_dict.items():\n",
    "        # Remove numbers from the list for the current group\n",
    "        input_dict[group] = [num for num in numbers if num not in numbers_to_remove]\n",
    "\n",
    "    # Remove empty groups (groups with no numbers)\n",
    "    input_dict = {group: numbers for group, numbers in input_dict.items() if numbers}\n",
    "\n",
    "    return input_dict"
   ]
  },
  {
   "cell_type": "code",
   "execution_count": null,
   "metadata": {},
   "outputs": [],
   "source": [
    "ignore_list = [\"num1\", \"num2\", \"num3\"]\n",
    "dictionary = remove_numbers_from_dict(dictionary, ignore_list)"
   ]
  },
  {
   "cell_type": "code",
   "execution_count": null,
   "metadata": {},
   "outputs": [],
   "source": [
    "for ele in dictionary:\n",
    "    print(ele, len(dictionary[ele]))\n"
   ]
  },
  {
   "cell_type": "code",
   "execution_count": null,
   "metadata": {},
   "outputs": [],
   "source": []
  }
 ],
 "metadata": {
  "kernelspec": {
   "display_name": "Python 3",
   "language": "python",
   "name": "python3"
  },
  "language_info": {
   "codemirror_mode": {
    "name": "ipython",
    "version": 3
   },
   "file_extension": ".py",
   "mimetype": "text/x-python",
   "name": "python",
   "nbconvert_exporter": "python",
   "pygments_lexer": "ipython3",
   "version": "3.10.12"
  },
  "orig_nbformat": 4
 },
 "nbformat": 4,
 "nbformat_minor": 2
}
